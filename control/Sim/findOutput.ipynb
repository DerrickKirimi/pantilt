{
 "cells": [
  {
   "cell_type": "code",
   "execution_count": 1,
   "metadata": {},
   "outputs": [
    {
     "ename": "ValueError",
     "evalue": "could not convert string to float: ''",
     "output_type": "error",
     "traceback": [
      "\u001b[0;31m---------------------------------------------------------------------------\u001b[0m",
      "\u001b[0;31mValueError\u001b[0m                                Traceback (most recent call last)",
      "Cell \u001b[0;32mIn[1], line 33\u001b[0m\n\u001b[1;32m     30\u001b[0m setpoint \u001b[38;5;241m=\u001b[39m \u001b[38;5;241m320\u001b[39m\n\u001b[1;32m     32\u001b[0m \u001b[38;5;66;03m# Get user input for kp, ki, and kd values\u001b[39;00m\n\u001b[0;32m---> 33\u001b[0m kp \u001b[38;5;241m=\u001b[39m \u001b[38;5;28;43mfloat\u001b[39;49m\u001b[43m(\u001b[49m\u001b[38;5;28;43minput\u001b[39;49m\u001b[43m(\u001b[49m\u001b[38;5;124;43m\"\u001b[39;49m\u001b[38;5;124;43mEnter the value for kp: \u001b[39;49m\u001b[38;5;124;43m\"\u001b[39;49m\u001b[43m)\u001b[49m\u001b[43m)\u001b[49m\n\u001b[1;32m     34\u001b[0m ki \u001b[38;5;241m=\u001b[39m \u001b[38;5;28mfloat\u001b[39m(\u001b[38;5;28minput\u001b[39m(\u001b[38;5;124m\"\u001b[39m\u001b[38;5;124mEnter the value for ki: \u001b[39m\u001b[38;5;124m\"\u001b[39m))\n\u001b[1;32m     35\u001b[0m kd \u001b[38;5;241m=\u001b[39m \u001b[38;5;28mfloat\u001b[39m(\u001b[38;5;28minput\u001b[39m(\u001b[38;5;124m\"\u001b[39m\u001b[38;5;124mEnter the value for kd: \u001b[39m\u001b[38;5;124m\"\u001b[39m))\n",
      "\u001b[0;31mValueError\u001b[0m: could not convert string to float: ''"
     ]
    }
   ],
   "source": [
    "import os\n",
    "import pandas as pd\n",
    "import numpy as np\n",
    "from pid_sm import PIDController\n",
    "from concurrent.futures import ProcessPoolExecutor\n",
    "\n",
    "# Function to simulate the system response using the PID controller\n",
    "def simulate_system_response(kp, ki, kd, setpoint, object_centers):\n",
    "    pid_controller = PIDController(kP=kp, kI=ki, kD=kd)\n",
    "\n",
    "    data = {'Input': [], 'kP': [], 'kI': [], 'kD': [], 'Output': []}\n",
    "\n",
    "    for object_center in object_centers:\n",
    "        error = setpoint - object_center\n",
    "        output = pid_controller.update(error)\n",
    "\n",
    "        # Append values to the data dictionary\n",
    "        data['Input'].append(error)\n",
    "        data['kP'].append(kp)\n",
    "        data['kI'].append(ki)\n",
    "        data['kD'].append(kd)\n",
    "        data['Output'].append(output)\n",
    "\n",
    "    return pd.DataFrame(data)\n",
    "\n",
    "# Generate input values\n",
    "object_centers = np.arange(0, 641, 10)\n",
    "\n",
    "# Setpoint for all cases\n",
    "setpoint = 320\n",
    "\n",
    "# Get user input for kp, ki, and kd values\n",
    "kp = float(input(\"Enter the value for kp: \"))\n",
    "ki = float(input(\"Enter the value for ki: \"))\n",
    "kd = float(input(\"Enter the value for kd: \"))\n",
    "\n",
    "# Specify the folder path\n",
    "folder_path = '../outPutData/'  # Adjust the relative path as needed\n",
    "\n",
    "# Create the folder if it doesn't exist\n",
    "os.makedirs(folder_path, exist_ok=True)\n",
    "\n",
    "# Create a string to append to the file name\n",
    "param_string = f\"_kp_{kp}_ki_{ki}_kd_{kd}\"\n",
    "\n",
    "# Using ProcessPoolExecutor for parallel execution\n",
    "with ProcessPoolExecutor() as executor:\n",
    "    # Simulate system response for user-specified PID parameters\n",
    "    futures = [executor.submit(simulate_system_response, kp, ki, kd, setpoint, object_centers)]\n",
    "    df_list = [future.result() for future in futures]\n",
    "\n",
    "# Concatenate DataFrames from different processes\n",
    "df = pd.concat(df_list, ignore_index=True)\n",
    "\n",
    "# Print the head of the DataFrame\n",
    "print(\"\\nHead of the DataFrame:\")\n",
    "print(df.head())\n",
    "\n",
    "# Save the DataFrame to an Excel file in the specified folder\n",
    "excel_filename = os.path.join(folder_path, f'system_response_data{param_string}.xlsx')\n",
    "df.to_excel(excel_filename, index=False)\n",
    "\n",
    "print(f'Data saved to {excel_filename}')\n"
   ]
  }
 ],
 "metadata": {
  "kernelspec": {
   "display_name": "Python 3.11.5 ('env': venv)",
   "language": "python",
   "name": "python3"
  },
  "language_info": {
   "codemirror_mode": {
    "name": "ipython",
    "version": 3
   },
   "file_extension": ".py",
   "mimetype": "text/x-python",
   "name": "python",
   "nbconvert_exporter": "python",
   "pygments_lexer": "ipython3",
   "version": "3.11.5"
  },
  "orig_nbformat": 4,
  "vscode": {
   "interpreter": {
    "hash": "6404aa886a7ed8c196856ae0e22a15196dee38c010d32a097d9c48291af8dee8"
   }
  }
 },
 "nbformat": 4,
 "nbformat_minor": 2
}
