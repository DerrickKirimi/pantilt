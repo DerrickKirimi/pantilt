{
 "cells": [
  {
   "cell_type": "code",
   "execution_count": 5,
   "metadata": {},
   "outputs": [
    {
     "name": "stdout",
     "output_type": "stream",
     "text": [
      "Best Tuning Parameters:\n",
      "{'kP': 0.1, 'kI': 0.01, 'kD': 0.05555555555555555}\n",
      "\n",
      "Head of the DataFrame:\n",
      "    kP    kI        kD\n",
      "0  0.1  0.01  0.055556\n"
     ]
    }
   ],
   "source": [
    "import pandas as pd\n",
    "import numpy as np\n",
    "from pid_sm import PIDController\n",
    "from concurrent.futures import ProcessPoolExecutor\n",
    "\n",
    "# Function to simulate the system response using the PID controller\n",
    "def simulate_system_response(pid_controller, setpoint, object_centers):\n",
    "    data = {'Time': [], 'Input': [], 'Output': []}\n",
    "\n",
    "    for object_center in object_centers:\n",
    "        error = setpoint - object_center\n",
    "        output = pid_controller.update(error)\n",
    "\n",
    "        # Simulate time increments of 0.5 seconds\n",
    "        time_increment = 0.5\n",
    "        data['Time'].append(len(data['Time']) * time_increment)\n",
    "        data['Input'].append(error)\n",
    "        data['Output'].append(output)\n",
    "\n",
    "    return pd.DataFrame(data)\n",
    "\n",
    "def evaluate_parameters(kp, ki, kd, setpoint, object_centers):\n",
    "    pid_controller = PIDController(kP=kp, kI=ki, kD=kd)\n",
    "    pid_controller.reset()\n",
    "    df = simulate_system_response(pid_controller, setpoint, object_centers)\n",
    "    total_error = np.sum(np.abs(df['Output']))\n",
    "    return {'kP': kp, 'kI': ki, 'kD': kd, 'Error': total_error}\n",
    "\n",
    "# Generate input values\n",
    "object_centers = np.arange(-320, 321, 10)\n",
    "\n",
    "# Setpoint for all cases\n",
    "setpoint = 320\n",
    "\n",
    "# Define the ranges for tuning parameters\n",
    "kp_values = np.linspace(0.1, 2.0, 20)\n",
    "ki_values = np.linspace(0.01, 0.5, 10)\n",
    "kd_values = np.linspace(0.0, 0.5, 10)\n",
    "\n",
    "# Best tuning parameters\n",
    "best_params = None\n",
    "best_error = float('inf')\n",
    "\n",
    "# List to store close tuning parameter sets\n",
    "close_params_list = []\n",
    "\n",
    "# Close threshold for parallelization\n",
    "close_threshold = 50  # Adjust as needed\n",
    "\n",
    "# Function to check if the error is close to the best error\n",
    "def is_close(error):\n",
    "    return error < best_error + close_threshold\n",
    "\n",
    "# Using ProcessPoolExecutor for parallelization\n",
    "with ProcessPoolExecutor() as executor:\n",
    "    # Iterate through possible combinations of kp, ki, and kd\n",
    "    futures = []\n",
    "    for kp in kp_values:\n",
    "        for ki in ki_values:\n",
    "            for kd in kd_values:\n",
    "                futures.append(executor.submit(evaluate_parameters, kp, ki, kd, setpoint, object_centers))\n",
    "\n",
    "    # Retrieve results from futures\n",
    "    for future in futures:\n",
    "        params = future.result()\n",
    "        total_error = params['Error']\n",
    "\n",
    "        # Check if the current parameters result in a better response\n",
    "        if total_error < best_error:\n",
    "            best_error = total_error\n",
    "            best_params = {'kP': params['kP'], 'kI': params['kI'], 'kD': params['kD']}\n",
    "\n",
    "        # Check if the error is close to the best error\n",
    "        if is_close(total_error):\n",
    "            close_params_list.append({'kP': params['kP'], 'kI': params['kI'], 'kD': params['kD'], 'Error': total_error})\n",
    "\n",
    "# Output the best tuning parameters\n",
    "print(\"Best Tuning Parameters:\")\n",
    "print(best_params)\n",
    "\n",
    "# Save best_params to an Excel file using DataFrame\n",
    "best_params_df = pd.DataFrame([best_params])\n",
    "best_params_df.to_excel('best_tuning_params.xlsx', index=False)\n",
    "\n",
    "# Print the head of the DataFrame\n",
    "print(\"\\nHead of the DataFrame:\")\n",
    "print(best_params_df.head())\n"
   ]
  }
 ],
 "metadata": {
  "kernelspec": {
   "display_name": "Python 3.11.5 ('env': venv)",
   "language": "python",
   "name": "python3"
  },
  "language_info": {
   "codemirror_mode": {
    "name": "ipython",
    "version": 3
   },
   "file_extension": ".py",
   "mimetype": "text/x-python",
   "name": "python",
   "nbconvert_exporter": "python",
   "pygments_lexer": "ipython3",
   "version": "3.11.5"
  },
  "orig_nbformat": 4,
  "vscode": {
   "interpreter": {
    "hash": "6404aa886a7ed8c196856ae0e22a15196dee38c010d32a097d9c48291af8dee8"
   }
  }
 },
 "nbformat": 4,
 "nbformat_minor": 2
}
