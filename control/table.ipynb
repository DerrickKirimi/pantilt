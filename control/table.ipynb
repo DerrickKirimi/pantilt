{
 "cells": [
  {
   "cell_type": "code",
   "execution_count": 4,
   "metadata": {},
   "outputs": [
    {
     "name": "stdout",
     "output_type": "stream",
     "text": [
      "   Time  Input  Output\n",
      "0   0.0    640   992.0\n",
      "1   0.5    630  1008.5\n",
      "2   1.0    620  1024.5\n",
      "3   1.5    610  1040.0\n",
      "4   2.0    600  1055.0\n",
      "Data saved to system_response_data.xlsx\n"
     ]
    }
   ],
   "source": [
    "import pandas as pd\n",
    "import numpy as np\n",
    "from pid_sm import PIDController\n",
    "\n",
    "def simulate_system_response(pid_controller, setpoint, object_centers):\n",
    "    data = {'Time': [], 'Input': [], 'Output': []}\n",
    "\n",
    "    for object_center in object_centers:\n",
    "        error = setpoint - object_center\n",
    "        output = pid_controller.update(error)\n",
    "\n",
    "        # Simulate time increments of 0.5 seconds\n",
    "        time_increment = 0.5\n",
    "        data['Time'].append(len(data['Time']) * time_increment)\n",
    "        data['Input'].append(error)\n",
    "        data['Output'].append(output)\n",
    "\n",
    "    return pd.DataFrame(data)\n",
    "\n",
    "# Generate input values\n",
    "object_centers = np.arange(-320, 321, 10)\n",
    "\n",
    "# Initialize the PID controller with initial parameters\n",
    "pid_controller = PIDController(kP=1.5, kI=0.1, kD=0)\n",
    "pid_controller.reset()\n",
    "\n",
    "# Setpoint for all cases\n",
    "setpoint = 320\n",
    "\n",
    "# Simulate system response for all object center values\n",
    "df = simulate_system_response(pid_controller, setpoint, object_centers)\n",
    "\n",
    "# Display the first few rows of the DataFrame\n",
    "print(df.head())\n",
    "\n",
    "# Save the data to an Excel file\n",
    "excel_filename = 'system_response_data.xlsx'\n",
    "df.to_excel(excel_filename, index=False)\n",
    "\n",
    "print(f'Data saved to {excel_filename}')\n"
   ]
  }
 ],
 "metadata": {
  "kernelspec": {
   "display_name": "Python 3.11.5 ('env': venv)",
   "language": "python",
   "name": "python3"
  },
  "language_info": {
   "codemirror_mode": {
    "name": "ipython",
    "version": 3
   },
   "file_extension": ".py",
   "mimetype": "text/x-python",
   "name": "python",
   "nbconvert_exporter": "python",
   "pygments_lexer": "ipython3",
   "version": "3.11.5"
  },
  "orig_nbformat": 4,
  "vscode": {
   "interpreter": {
    "hash": "6404aa886a7ed8c196856ae0e22a15196dee38c010d32a097d9c48291af8dee8"
   }
  }
 },
 "nbformat": 4,
 "nbformat_minor": 2
}
