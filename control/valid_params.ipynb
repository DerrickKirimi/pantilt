{
 "cells": [
  {
   "cell_type": "code",
   "execution_count": 4,
   "metadata": {},
   "outputs": [
    {
     "name": "stdout",
     "output_type": "stream",
     "text": [
      "\n",
      "Head of the DataFrame:\n",
      "    kP    kI   kD  Input  Output\n",
      "0  0.1  0.01  0.0    320   33.60\n",
      "1  0.1  0.01  0.0    310   34.15\n",
      "2  0.1  0.01  0.0    300   34.65\n",
      "3  0.1  0.01  0.0    290   35.10\n",
      "4  0.1  0.01  0.0    280   35.50\n",
      "Data saved to valid_tuning_params.xlsx\n"
     ]
    }
   ],
   "source": [
    "import pandas as pd\n",
    "import numpy as np\n",
    "from pid_sm import PIDController\n",
    "from concurrent.futures import ProcessPoolExecutor\n",
    "\n",
    "# Function to simulate the system response using the PID controller\n",
    "def simulate_system_response(pid_controller, setpoint, object_centers):\n",
    "    data = {'Time': [], 'Input': [], 'Output': []}\n",
    "\n",
    "    for object_center in object_centers:\n",
    "        error = setpoint - object_center\n",
    "        output = pid_controller.update(error)\n",
    "\n",
    "        # Simulate time increments of 0.5 seconds\n",
    "        time_increment = 0.5\n",
    "        data['Time'].append(len(data['Time']) * time_increment)\n",
    "        data['Input'].append(error)\n",
    "        data['Output'].append(output)\n",
    "\n",
    "    return pd.DataFrame(data)\n",
    "\n",
    "def evaluate_parameters(kp, ki, kd, setpoint, object_centers):\n",
    "    pid_controller = PIDController(kP=kp, kI=ki, kD=kd)\n",
    "    pid_controller.reset()\n",
    "    df = simulate_system_response(pid_controller, setpoint, object_centers)\n",
    "    \n",
    "    # Check if the output remains within the range [-90, 90]\n",
    "    if np.max(df['Output']) <= 110 and np.min(df['Output']) >= -110:\n",
    "        # Return a DataFrame with separate rows for each input and output value\n",
    "        return pd.DataFrame({'kP': [kp] * len(df), 'kI': [ki] * len(df), 'kD': [kd] * len(df),\n",
    "                             'Input': df['Input'].values, 'Output': df['Output'].values})\n",
    "    else:\n",
    "        # Return None when output is outside the desired range\n",
    "        return None\n",
    "\n",
    "# Generate input values\n",
    "object_centers = np.arange(0, 641, 10)\n",
    "\n",
    "# Setpoint for all cases\n",
    "setpoint = 320\n",
    "\n",
    "# Define the ranges for tuning parameters\n",
    "kp_values = np.linspace(0.1, 2.0, 20)\n",
    "ki_values = np.linspace(0.01, 0.5, 10)\n",
    "kd_values = np.linspace(0.0, 0.5, 10)\n",
    "\n",
    "# List to store DataFrames for valid tuning parameter sets\n",
    "valid_params_dfs = []\n",
    "\n",
    "# Using ProcessPoolExecutor for parallelization\n",
    "with ProcessPoolExecutor() as executor:\n",
    "    # Iterate through possible combinations of kp, ki, and kd\n",
    "    futures = []\n",
    "    for kp in kp_values:\n",
    "        for ki in ki_values:\n",
    "            for kd in kd_values:\n",
    "                futures.append(executor.submit(evaluate_parameters, kp, ki, kd, setpoint, object_centers))\n",
    "\n",
    "    # Retrieve results from futures\n",
    "    for future in futures:\n",
    "        params_df = future.result()\n",
    "\n",
    "        # Check if the result is not None (output within the range [-90, 90])\n",
    "        if params_df is not None:\n",
    "            valid_params_dfs.append(params_df)\n",
    "\n",
    "# Concatenate the list of valid parameter DataFrames into a single DataFrame\n",
    "valid_params_df = pd.concat(valid_params_dfs, ignore_index=True)\n",
    "\n",
    "# Save the DataFrame to an Excel file\n",
    "excel_filename = 'valid_tuning_params.xlsx'\n",
    "valid_params_df.to_excel(excel_filename, index=False)\n",
    "\n",
    "# Print the head of the DataFrame\n",
    "print(\"\\nHead of the DataFrame:\")\n",
    "print(valid_params_df.head())\n",
    "\n",
    "print(f'Data saved to {excel_filename}')\n"
   ]
  }
 ],
 "metadata": {
  "kernelspec": {
   "display_name": "Python 3.11.5 ('env': venv)",
   "language": "python",
   "name": "python3"
  },
  "language_info": {
   "codemirror_mode": {
    "name": "ipython",
    "version": 3
   },
   "file_extension": ".py",
   "mimetype": "text/x-python",
   "name": "python",
   "nbconvert_exporter": "python",
   "pygments_lexer": "ipython3",
   "version": "3.11.5"
  },
  "orig_nbformat": 4,
  "vscode": {
   "interpreter": {
    "hash": "6404aa886a7ed8c196856ae0e22a15196dee38c010d32a097d9c48291af8dee8"
   }
  }
 },
 "nbformat": 4,
 "nbformat_minor": 2
}
