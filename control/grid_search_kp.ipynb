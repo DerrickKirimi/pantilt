{
 "cells": [
  {
   "cell_type": "code",
   "execution_count": 3,
   "metadata": {},
   "outputs": [
    {
     "ename": "KeyboardInterrupt",
     "evalue": "",
     "output_type": "error",
     "traceback": [
      "\u001b[0;31m---------------------------------------------------------------------------\u001b[0m",
      "\u001b[0;31mKeyboardInterrupt\u001b[0m                         Traceback (most recent call last)",
      "Cell \u001b[0;32mIn[3], line 40\u001b[0m\n\u001b[1;32m     37\u001b[0m setpoint \u001b[38;5;241m=\u001b[39m \u001b[38;5;241m320\u001b[39m\n\u001b[1;32m     39\u001b[0m \u001b[38;5;66;03m# Simulate system response for all combinations of input, kp, ki, kd, and output\u001b[39;00m\n\u001b[0;32m---> 40\u001b[0m df \u001b[38;5;241m=\u001b[39m \u001b[43msimulate_system_response\u001b[49m\u001b[43m(\u001b[49m\u001b[43mPIDController\u001b[49m\u001b[43m(\u001b[49m\u001b[43m)\u001b[49m\u001b[43m,\u001b[49m\u001b[43m \u001b[49m\u001b[43msetpoint\u001b[49m\u001b[43m,\u001b[49m\u001b[43m \u001b[49m\u001b[43mobject_centers\u001b[49m\u001b[43m)\u001b[49m\n\u001b[1;32m     42\u001b[0m \u001b[38;5;66;03m# Save the data to an Excel file\u001b[39;00m\n\u001b[1;32m     43\u001b[0m excel_filename \u001b[38;5;241m=\u001b[39m \u001b[38;5;124m'\u001b[39m\u001b[38;5;124mtuning_results.xlsx\u001b[39m\u001b[38;5;124m'\u001b[39m\n",
      "Cell \u001b[0;32mIn[3], line 17\u001b[0m, in \u001b[0;36msimulate_system_response\u001b[0;34m(pid_controller, setpoint, object_centers)\u001b[0m\n\u001b[1;32m     14\u001b[0m \u001b[38;5;28;01mfor\u001b[39;00m object_center \u001b[38;5;129;01min\u001b[39;00m object_centers:\n\u001b[1;32m     16\u001b[0m     error \u001b[38;5;241m=\u001b[39m setpoint \u001b[38;5;241m-\u001b[39m object_center\n\u001b[0;32m---> 17\u001b[0m     output \u001b[38;5;241m=\u001b[39m \u001b[43mpid_controller\u001b[49m\u001b[38;5;241;43m.\u001b[39;49m\u001b[43mupdate\u001b[49m\u001b[43m(\u001b[49m\u001b[43merror\u001b[49m\u001b[43m)\u001b[49m\n\u001b[1;32m     19\u001b[0m     \u001b[38;5;66;03m# Append values to the data dictionary\u001b[39;00m\n\u001b[1;32m     20\u001b[0m     data[\u001b[38;5;124m'\u001b[39m\u001b[38;5;124mInput\u001b[39m\u001b[38;5;124m'\u001b[39m]\u001b[38;5;241m.\u001b[39mappend(error)\n",
      "File \u001b[0;32m~/PROJECT/pantilt/control/pid_sm.py:27\u001b[0m, in \u001b[0;36mPIDController.update\u001b[0;34m(self, error, sleep)\u001b[0m\n\u001b[1;32m     22\u001b[0m     self.cI = 0\n\u001b[1;32m     23\u001b[0m     self.cD = 0\n\u001b[1;32m     25\u001b[0m def update(self, error):\n\u001b[1;32m     26\u001b[0m \n\u001b[0;32m---> 27\u001b[0m     # grab the current time and calculate delta time / error\n\u001b[1;32m     28\u001b[0m     time_delta = 0.5\n\u001b[1;32m     29\u001b[0m     error_delta = error - self.error_prev\n",
      "\u001b[0;31mKeyboardInterrupt\u001b[0m: "
     ]
    }
   ],
   "source": [
    "import pandas as pd\n",
    "import numpy as np\n",
    "from pid_sm import PIDController\n",
    "\n",
    "# Function to simulate the system response using the PID controller\n",
    "def simulate_system_response(pid_controller, setpoint, object_centers):\n",
    "    data = {'Input': [], 'kP': [], 'kI': [], 'kD': [], 'Output': []}\n",
    "\n",
    "    for kp in kp_values:\n",
    "        for ki in ki_values:\n",
    "            for kd in kd_values:\n",
    "                pid_controller = PIDController(kP=kp, kI=ki, kD=kd)\n",
    "                pid_controller.reset()\n",
    "                for object_center in object_centers:\n",
    "                    \n",
    "                    error = setpoint - object_center\n",
    "                    output = pid_controller.update(error)\n",
    "\n",
    "                    # Append values to the data dictionary\n",
    "                    data['Input'].append(error)\n",
    "                    data['kP'].append(kp)\n",
    "                    data['kI'].append(ki)\n",
    "                    data['kD'].append(kd)\n",
    "                    data['Output'].append(output)\n",
    "\n",
    "    return pd.DataFrame(data)\n",
    "\n",
    "# Generate input values\n",
    "object_centers = np.arange(-320, 321, 10)\n",
    "\n",
    "# Define the ranges for tuning parameters\n",
    "kp_values = np.linspace(0.1, 2.0, 20)\n",
    "ki_values = np.linspace(0.01, 0.5, 10)\n",
    "kd_values = np.linspace(0.0, 0.5, 10)\n",
    "\n",
    "# Setpoint for all cases\n",
    "setpoint = 320\n",
    "\n",
    "# Simulate system response for all combinations of input, kp, ki, kd, and output\n",
    "df = simulate_system_response(PIDController(), setpoint, object_centers)\n",
    "\n",
    "# Save the data to an Excel file\n",
    "excel_filename = 'tuning_results.xlsx'\n",
    "df.to_excel(excel_filename, index=False)\n",
    "\n",
    "# Display the first few rows of the DataFrame\n",
    "print(\"First few rows of the DataFrame:\")\n",
    "print(df.head())\n",
    "\n",
    "# Plot the data\n",
    "plt.figure(figsize=(10, 6))\n",
    "plt.scatter(df['Input'], df['Output'], c=df['kP'], cmap='viridis', marker='o', alpha=0.5)\n",
    "plt.title('System Response for Different Tuning Parameters')\n",
    "plt.xlabel('Input (Error)')\n",
    "plt.ylabel('Output (Angle)')\n",
    "plt.colorbar(label='kP')\n",
    "plt.grid(True)\n",
    "plt.show()\n",
    "\n",
    "print(f'Data saved to {excel_filename}')\n"
   ]
  }
 ],
 "metadata": {
  "kernelspec": {
   "display_name": "Python 3.11.5 ('env': venv)",
   "language": "python",
   "name": "python3"
  },
  "language_info": {
   "codemirror_mode": {
    "name": "ipython",
    "version": 3
   },
   "file_extension": ".py",
   "mimetype": "text/x-python",
   "name": "python",
   "nbconvert_exporter": "python",
   "pygments_lexer": "ipython3",
   "version": "3.11.5"
  },
  "orig_nbformat": 4,
  "vscode": {
   "interpreter": {
    "hash": "6404aa886a7ed8c196856ae0e22a15196dee38c010d32a097d9c48291af8dee8"
   }
  }
 },
 "nbformat": 4,
 "nbformat_minor": 2
}
